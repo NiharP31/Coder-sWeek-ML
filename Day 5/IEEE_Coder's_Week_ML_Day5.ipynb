{
  "nbformat": 4,
  "nbformat_minor": 0,
  "metadata": {
    "colab": {
      "name": "IEEE-Coder's-Week-ML-Day5.ipynb",
      "provenance": []
    },
    "kernelspec": {
      "name": "python3",
      "display_name": "Python 3"
    }
  },
  "cells": [
    {
      "cell_type": "markdown",
      "metadata": {
        "id": "JhViUKphilPv",
        "colab_type": "text"
      },
      "source": [
        "**Importing all the necessary libraries**"
      ]
    },
    {
      "cell_type": "code",
      "metadata": {
        "id": "jrhCBfuSh9eF",
        "colab_type": "code",
        "colab": {
          "base_uri": "https://localhost:8080/",
          "height": 168
        },
        "outputId": "8ba970ad-2729-46dd-c77a-822fb11f73c1"
      },
      "source": [
        "!pip install GetOldTweets3"
      ],
      "execution_count": 1,
      "outputs": [
        {
          "output_type": "stream",
          "text": [
            "Collecting GetOldTweets3\n",
            "  Downloading https://files.pythonhosted.org/packages/ed/f4/a00c2a7c90801abc875325bb5416ce9090ac86d06a00cc887131bd73ba45/GetOldTweets3-0.0.11-py3-none-any.whl\n",
            "Requirement already satisfied: lxml>=3.5.0 in /usr/local/lib/python3.6/dist-packages (from GetOldTweets3) (4.2.6)\n",
            "Collecting pyquery>=1.2.10\n",
            "  Downloading https://files.pythonhosted.org/packages/78/43/95d42e386c61cb639d1a0b94f0c0b9f0b7d6b981ad3c043a836c8b5bc68b/pyquery-1.4.1-py2.py3-none-any.whl\n",
            "Collecting cssselect>0.7.9\n",
            "  Downloading https://files.pythonhosted.org/packages/3b/d4/3b5c17f00cce85b9a1e6f91096e1cc8e8ede2e1be8e96b87ce1ed09e92c5/cssselect-1.1.0-py2.py3-none-any.whl\n",
            "Installing collected packages: cssselect, pyquery, GetOldTweets3\n",
            "Successfully installed GetOldTweets3-0.0.11 cssselect-1.1.0 pyquery-1.4.1\n"
          ],
          "name": "stdout"
        }
      ]
    },
    {
      "cell_type": "code",
      "metadata": {
        "id": "f769q6a_iBaE",
        "colab_type": "code",
        "colab": {}
      },
      "source": [
        "import GetOldTweets3 as got\n",
        "import pandas as pd\n",
        "import numpy as np\n",
        "import tweepy\n",
        "import matplotlib.pyplot as plt\n",
        "from textblob import TextBlob"
      ],
      "execution_count": 0,
      "outputs": []
    },
    {
      "cell_type": "markdown",
      "metadata": {
        "id": "GQDbQgdHiUuZ",
        "colab_type": "text"
      },
      "source": [
        "**Adding necessary functions to aadd tweets**"
      ]
    },
    {
      "cell_type": "code",
      "metadata": {
        "id": "XK_7emhWiQFw",
        "colab_type": "code",
        "colab": {}
      },
      "source": [
        "def username_tweets_to_csv(username, count):\n",
        "  tweetCriteria = got.manager.TweetCriteria().setUsername(username).setMaxTweets(count)\n",
        "  tweets = got.manager.TweetManager.getTweets(tweetCriteria)\n",
        "  user_tweets = [[tweet.date, tweet.text] for tweet in tweets]\n",
        "  tweets_dataset = pd.DataFrame(user_tweets, columns = ['Datetime', 'Text'])\n",
        "  tweets_dataset.to_csv('{}-tweets.csv'.format(username), sep=',')"
      ],
      "execution_count": 0,
      "outputs": []
    },
    {
      "cell_type": "markdown",
      "metadata": {
        "id": "vrgokij7izuw",
        "colab_type": "text"
      },
      "source": [
        "**Importing data from tweeter handle for analysis as toxic or non-toxic**"
      ]
    },
    {
      "cell_type": "markdown",
      "metadata": {
        "id": "nSAAsDI8kzA1",
        "colab_type": "text"
      },
      "source": [
        "**Analysis on BBC World**"
      ]
    },
    {
      "cell_type": "code",
      "metadata": {
        "id": "k2dFQ8n9ieu5",
        "colab_type": "code",
        "colab": {}
      },
      "source": [
        "username = 'BBCWorld'\n",
        "count = 1000\n",
        "username_tweets_to_csv(username, count)"
      ],
      "execution_count": 0,
      "outputs": []
    },
    {
      "cell_type": "code",
      "metadata": {
        "id": "Hojbtnp2lKzI",
        "colab_type": "code",
        "colab": {}
      },
      "source": [
        "dataset = pd.read_csv('/content/BBCWorld-tweets.csv')"
      ],
      "execution_count": 0,
      "outputs": []
    },
    {
      "cell_type": "code",
      "metadata": {
        "id": "Tlfg2QDwla7V",
        "colab_type": "code",
        "colab": {}
      },
      "source": [
        "dataset=dataset.drop(['Unnamed: 0','Datetime'], 1)"
      ],
      "execution_count": 0,
      "outputs": []
    },
    {
      "cell_type": "code",
      "metadata": {
        "id": "9ttqf1jwleNQ",
        "colab_type": "code",
        "colab": {
          "base_uri": "https://localhost:8080/",
          "height": 195
        },
        "outputId": "e84ef474-3768-46cb-fbb7-95d1944dad79"
      },
      "source": [
        "dataset.head()"
      ],
      "execution_count": 9,
      "outputs": [
        {
          "output_type": "execute_result",
          "data": {
            "text/html": [
              "<div>\n",
              "<style scoped>\n",
              "    .dataframe tbody tr th:only-of-type {\n",
              "        vertical-align: middle;\n",
              "    }\n",
              "\n",
              "    .dataframe tbody tr th {\n",
              "        vertical-align: top;\n",
              "    }\n",
              "\n",
              "    .dataframe thead th {\n",
              "        text-align: right;\n",
              "    }\n",
              "</style>\n",
              "<table border=\"1\" class=\"dataframe\">\n",
              "  <thead>\n",
              "    <tr style=\"text-align: right;\">\n",
              "      <th></th>\n",
              "      <th>Text</th>\n",
              "    </tr>\n",
              "  </thead>\n",
              "  <tbody>\n",
              "    <tr>\n",
              "      <th>0</th>\n",
              "      <td>Coronavirus: Hard-hit Brazil removes data amid...</td>\n",
              "    </tr>\n",
              "    <tr>\n",
              "      <th>1</th>\n",
              "      <td>Two Buffalo policemen charged for shoving 75-y...</td>\n",
              "    </tr>\n",
              "    <tr>\n",
              "      <th>2</th>\n",
              "      <td>In pictures: Global protests against racism an...</td>\n",
              "    </tr>\n",
              "    <tr>\n",
              "      <th>3</th>\n",
              "      <td>Coronavirus: Far-right Rome protest turns brie...</td>\n",
              "    </tr>\n",
              "    <tr>\n",
              "      <th>4</th>\n",
              "      <td>\"Something's different now... enough people ar...</td>\n",
              "    </tr>\n",
              "  </tbody>\n",
              "</table>\n",
              "</div>"
            ],
            "text/plain": [
              "                                                Text\n",
              "0  Coronavirus: Hard-hit Brazil removes data amid...\n",
              "1  Two Buffalo policemen charged for shoving 75-y...\n",
              "2  In pictures: Global protests against racism an...\n",
              "3  Coronavirus: Far-right Rome protest turns brie...\n",
              "4  \"Something's different now... enough people ar..."
            ]
          },
          "metadata": {
            "tags": []
          },
          "execution_count": 9
        }
      ]
    },
    {
      "cell_type": "markdown",
      "metadata": {
        "id": "GX23IKlflxvR",
        "colab_type": "text"
      },
      "source": [
        "**Applying Sentiment Analysis**"
      ]
    },
    {
      "cell_type": "code",
      "metadata": {
        "id": "FR29KISbliJh",
        "colab_type": "code",
        "colab": {
          "base_uri": "https://localhost:8080/",
          "height": 34
        },
        "outputId": "9fabdd01-69cd-4744-948e-77a77d1ced16"
      },
      "source": [
        "Sentiment = []\n",
        "Score = []\n",
        "i = 0\n",
        "\n",
        "while (i < len(dataset['Text'])):\n",
        "  sample = dataset['Text'][i]\n",
        "  analysis = TextBlob(sample)\n",
        "\n",
        "  if (analysis.sentiment.polarity >= 0.5):\n",
        "    data1 = \"Positive\"\n",
        "  elif (analysis.sentiment.polarity <= -0.5):\n",
        "    data1 = \"Negative\"\n",
        "  else:\n",
        "    data1 = \"Neutral\"\n",
        "  \n",
        "  Sentiment.append(data1)\n",
        "  Score.append(analysis.sentiment.polarity)\n",
        "  i += 1\n",
        "else :\n",
        "  print(\"Successful\")"
      ],
      "execution_count": 11,
      "outputs": [
        {
          "output_type": "stream",
          "text": [
            "Successful\n"
          ],
          "name": "stdout"
        }
      ]
    },
    {
      "cell_type": "code",
      "metadata": {
        "id": "fjE6LGThl8up",
        "colab_type": "code",
        "colab": {}
      },
      "source": [
        "dataset['Sentiment'] = Sentiment\n",
        "dataset['Score'] = Score "
      ],
      "execution_count": 0,
      "outputs": []
    },
    {
      "cell_type": "code",
      "metadata": {
        "id": "vTyl75mipuZl",
        "colab_type": "code",
        "colab": {
          "base_uri": "https://localhost:8080/",
          "height": 195
        },
        "outputId": "cf5af674-beb7-42a4-b339-6a44c78856c9"
      },
      "source": [
        "dataset.head()"
      ],
      "execution_count": 13,
      "outputs": [
        {
          "output_type": "execute_result",
          "data": {
            "text/html": [
              "<div>\n",
              "<style scoped>\n",
              "    .dataframe tbody tr th:only-of-type {\n",
              "        vertical-align: middle;\n",
              "    }\n",
              "\n",
              "    .dataframe tbody tr th {\n",
              "        vertical-align: top;\n",
              "    }\n",
              "\n",
              "    .dataframe thead th {\n",
              "        text-align: right;\n",
              "    }\n",
              "</style>\n",
              "<table border=\"1\" class=\"dataframe\">\n",
              "  <thead>\n",
              "    <tr style=\"text-align: right;\">\n",
              "      <th></th>\n",
              "      <th>Text</th>\n",
              "      <th>Sentiment</th>\n",
              "      <th>Score</th>\n",
              "    </tr>\n",
              "  </thead>\n",
              "  <tbody>\n",
              "    <tr>\n",
              "      <th>0</th>\n",
              "      <td>Coronavirus: Hard-hit Brazil removes data amid...</td>\n",
              "      <td>Neutral</td>\n",
              "      <td>0.0</td>\n",
              "    </tr>\n",
              "    <tr>\n",
              "      <th>1</th>\n",
              "      <td>Two Buffalo policemen charged for shoving 75-y...</td>\n",
              "      <td>Neutral</td>\n",
              "      <td>0.0</td>\n",
              "    </tr>\n",
              "    <tr>\n",
              "      <th>2</th>\n",
              "      <td>In pictures: Global protests against racism an...</td>\n",
              "      <td>Neutral</td>\n",
              "      <td>0.0</td>\n",
              "    </tr>\n",
              "    <tr>\n",
              "      <th>3</th>\n",
              "      <td>Coronavirus: Far-right Rome protest turns brie...</td>\n",
              "      <td>Negative</td>\n",
              "      <td>-0.8</td>\n",
              "    </tr>\n",
              "    <tr>\n",
              "      <th>4</th>\n",
              "      <td>\"Something's different now... enough people ar...</td>\n",
              "      <td>Neutral</td>\n",
              "      <td>0.1</td>\n",
              "    </tr>\n",
              "  </tbody>\n",
              "</table>\n",
              "</div>"
            ],
            "text/plain": [
              "                                                Text Sentiment  Score\n",
              "0  Coronavirus: Hard-hit Brazil removes data amid...   Neutral    0.0\n",
              "1  Two Buffalo policemen charged for shoving 75-y...   Neutral    0.0\n",
              "2  In pictures: Global protests against racism an...   Neutral    0.0\n",
              "3  Coronavirus: Far-right Rome protest turns brie...  Negative   -0.8\n",
              "4  \"Something's different now... enough people ar...   Neutral    0.1"
            ]
          },
          "metadata": {
            "tags": []
          },
          "execution_count": 13
        }
      ]
    },
    {
      "cell_type": "markdown",
      "metadata": {
        "id": "Snj__Bjzp5rQ",
        "colab_type": "text"
      },
      "source": [
        "**Here we saw the tweets got categorized succefylly**"
      ]
    },
    {
      "cell_type": "markdown",
      "metadata": {
        "id": "wp6NqldnqVQG",
        "colab_type": "text"
      },
      "source": [
        "**Now lets Visualize the Analysis Score for it:**"
      ]
    },
    {
      "cell_type": "code",
      "metadata": {
        "id": "ABm7Vo4Jpz5J",
        "colab_type": "code",
        "colab": {
          "base_uri": "https://localhost:8080/",
          "height": 282
        },
        "outputId": "952420be-0a2f-4cfd-da86-9d3be9ef30ad"
      },
      "source": [
        "color = np.where(dataset[\"Sentiment\"]== \"Positive\",'g', np.where(dataset[\"Sentiment\"]== \"Negative\",'r','b'))\n",
        "plt.scatter(dataset['Score'].index, dataset['Score'], c=color)"
      ],
      "execution_count": 15,
      "outputs": [
        {
          "output_type": "execute_result",
          "data": {
            "text/plain": [
              "<matplotlib.collections.PathCollection at 0x7fd60a2e1b00>"
            ]
          },
          "metadata": {
            "tags": []
          },
          "execution_count": 15
        },
        {
          "output_type": "display_data",
          "data": {
            "image/png": "[encoded data removed]",
            "text/plain": [
              "<Figure size 432x288 with 1 Axes>"
            ]
          },
          "metadata": {
            "tags": [],
            "needs_background": "light"
          }
        }
      ]
    },
    {
      "cell_type": "markdown",
      "metadata": {
        "id": "ZvTL6dOXqxVg",
        "colab_type": "text"
      },
      "source": [
        "**Analysis Score**"
      ]
    },
    {
      "cell_type": "code",
      "metadata": {
        "id": "qbUIllgWqJXN",
        "colab_type": "code",
        "colab": {
          "base_uri": "https://localhost:8080/",
          "height": 67
        },
        "outputId": "41f2b9a3-d7d8-4ded-a90f-3e663f5c2ead"
      },
      "source": [
        "poscount = dataset[(dataset['Sentiment'] == \"Positive\")][\"Sentiment\"].count()\n",
        "negcount = dataset[(dataset['Sentiment'] == \"Negative\")][\"Sentiment\"].count()\n",
        "neucount = dataset[(dataset['Sentiment'] == \"Neutral\")][\"Sentiment\"].count()\n",
        "print('Positive Sentiment = ',(poscount/1000)*100,'%')\n",
        "print('Neutral Sentiment = ',(neucount/1000)*100,'%')\n",
        "print('Negative Sentiment = ',(negcount/1000)*100,'%')"
      ],
      "execution_count": 16,
      "outputs": [
        {
          "output_type": "stream",
          "text": [
            "Positive Sentiment =  4.9 %\n",
            "Neutral Sentiment =  93.30000000000001 %\n",
            "Negative Sentiment =  1.7999999999999998 %\n"
          ],
          "name": "stdout"
        }
      ]
    },
    {
      "cell_type": "code",
      "metadata": {
        "id": "wmdeT13aqune",
        "colab_type": "code",
        "colab": {}
      },
      "source": [
        ""
      ],
      "execution_count": 0,
      "outputs": []
    }
  ]
}